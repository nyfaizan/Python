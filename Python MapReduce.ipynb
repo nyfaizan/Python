{
 "cells": [
  {
   "cell_type": "code",
   "execution_count": 1,
   "metadata": {},
   "outputs": [
    {
     "name": "stdout",
     "output_type": "stream",
     "text": [
      "Hello World\n"
     ]
    }
   ],
   "source": [
    "print(\"Hello World\")"
   ]
  },
  {
   "cell_type": "code",
   "execution_count": 2,
   "metadata": {},
   "outputs": [],
   "source": [
    "x=9"
   ]
  },
  {
   "cell_type": "code",
   "execution_count": 4,
   "metadata": {},
   "outputs": [
    {
     "data": {
      "text/plain": [
       "9"
      ]
     },
     "execution_count": 4,
     "metadata": {},
     "output_type": "execute_result"
    }
   ],
   "source": [
    "x"
   ]
  },
  {
   "cell_type": "code",
   "execution_count": 8,
   "metadata": {},
   "outputs": [
    {
     "name": "stdout",
     "output_type": "stream",
     "text": [
      "hellow\t1\n",
      "how\t1\n",
      "are\t1\n",
      "you\t1\n",
      "/n\t1\n",
      "heelo\t1\n",
      "you\t1\n",
      "are\t1\n",
      "there\t1\n"
     ]
    }
   ],
   "source": [
    "myinput =\"hellow how are you /n heelo  you are there\"\n",
    "\n",
    "line = myinput.strip()\n",
    "\n",
    "# split the line into words\n",
    "\n",
    "words = line.split()\n",
    "\n",
    "# increase counters\n",
    "\n",
    "for word in words:\n",
    "\n",
    "    # write the results to STDOUT (standard output);\n",
    "\n",
    "    # what we output here will be the input for the\n",
    "\n",
    "    # Reduce step, i.e. the input for reducer.py\n",
    "\n",
    "    #\n",
    "\n",
    "    # tab-delimited; the trivial word count is 1\n",
    "\n",
    "    print ('%s\\t%s' % (word, 1))"
   ]
  },
  {
   "cell_type": "code",
   "execution_count": null,
   "metadata": {},
   "outputs": [],
   "source": []
  }
 ],
 "metadata": {
  "kernelspec": {
   "display_name": "Python 3",
   "language": "python",
   "name": "python3"
  },
  "language_info": {
   "codemirror_mode": {
    "name": "ipython",
    "version": 3
   },
   "file_extension": ".py",
   "mimetype": "text/x-python",
   "name": "python",
   "nbconvert_exporter": "python",
   "pygments_lexer": "ipython3",
   "version": "3.6.5"
  }
 },
 "nbformat": 4,
 "nbformat_minor": 2
}
